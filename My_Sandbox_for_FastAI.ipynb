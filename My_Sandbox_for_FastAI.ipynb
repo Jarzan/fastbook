{
 "cells": [
  {
   "cell_type": "markdown",
   "metadata": {},
   "source": [
    "# Fast AI MOOC: Practical Deep Learning for Coders: My \"Sandbox\" for the Course"
   ]
  },
  {
   "cell_type": "markdown",
   "metadata": {},
   "source": [
    "### Kurssi aloitettu 6.heinäkuuta 2021\n",
    "\n",
    "### Tämä Sandbox on minun omat Code-Alongit ja muistiinpanot kurssista. Tavoitteena on paitsi oppia, mutta Sandbox-muistiinpanot tulevat palvelemaan jatkossa myös referenssikirjana aiheesta, jota voin käyttää tehokkaasti työni tausta aineistona.\n",
    "\n",
    "Kurssin sivut: https://course.fast.ai"
   ]
  },
  {
   "cell_type": "markdown",
   "metadata": {},
   "source": [
    "Welcome to Practical Deep Learning for Coders. This web site covers the book and the 2020 version of the course, which are designed to work closely together. If you haven't yet got the book, you can buy it here. It's also freely available as interactive Jupyter Notebooks; read on to learn how to access them.\n",
    "\n",
    "### How do I get started?\n",
    "\n",
    "f you're ready to dive in right now, here's how to get started. If you want to know more about this course, read the next sections, and then come back here.\n",
    "\n",
    "To watch the videos, click on the Lessons section in the navigation sidebar. The lessons all have searchable transcripts; click \"Transcript Search\" in the top right panel to search for a word or phrase, and then click it to jump straight to video at the time that appears in the transcript. The videos are all captioned and also translated into Chinese (简体中文) and Spanish; while watching the video click the \"CC\" button to turn them on and off, and the setting button to change the language.\n",
    "\n",
    "Each video covers a chapter from the book. The entirety of every chapter of the book is available as an interactive Jupyter Notebook. Jupyter Notebook is the most popular tool for doing data science in Python, for good reason. It is powerful, flexible, and easy to use. We think you will love it! Since the most important thing for learning deep learning is writing code and experimenting, it's important that you have a great platform for experimenting with code.\n",
    "\n",
    "To get started, we recommend using a Jupyter Server from one of the recommended online platforms (click the links for instructions on how to use these for the course):\n",
    "\n",
    "- Colab ( https://course.fast.ai/start_colab ): A popular free service from Google. Google have changed the notebook platform quite a lot, so keyboard shortcuts are different, and not everything works (e.g. much of chapter 2 doesn't work because Colab doesn't support creating web app GUIs)\n",
    "\n",
    "- Gradient ( https://course.fast.ai/start_gradient ): Unlike Colab, this is a \"real\" Jupyter Notebook so everything in the course works. It also provides space to save your notebooks and models. However, sometimes the free servers get over-loaded, and when that happens it's impossible to connect.\n",
    "\n",
    "If you are interested in the experience of running a full Linux server, you can consider DataCrunch.io (very new service so we don't know how good it is, no setup required, extremely good value and extremely fast GPUs), or Google Cloud (extremely popular service, very reliable, but the fastest GPUs are far more expensive). We strongly suggest using one of the recommended online platforms for running the notebooks, and to not use your own computer, unless you're very experienced with Linux system adminstration and handling GPU drivers, CUDA, and so forth.\n",
    "\n",
    "If you need help, there's a wonderful online community ready to help you at forums.fast.ai. (https://forums.fast.ai/c/part1-v4/46) Before asking a question on the forums, search carefully to see if your question has been answered before. (The forum system won't let you post until you've spent a few minutes on the site reading existing topics.) One bit that many students find tricky is getting signed up for the **Bing API for the image download task in lesson 2;** here's a helpful forum post explaining how to get the Bing API key you'll need for downloading images: https://forums.fast.ai/t/getting-the-bing-image-search-key/67417 .\n",
    "\n",
    "## The software you will be using\n",
    "\n",
    "In this course, you'll be using PyTorch ( https://pytorch.org ) and fastai ( https://docs.fast.ai ).\n",
    "\n",
    "We've completed hundreds of machine learning projects using dozens of different packages, and many different programming languages. At fast.ai, we have written courses using most of the main deep learning and machine learning packages used today. We spent over a thousand hours testing PyTorch before deciding that we would use it for future courses, software development, and research. PyTorch is now the world's fastest-growing deep learning library and is already used for most research papers at top conferences.\n",
    "\n",
    "**PyTorch** works best as a low-level foundation library, providing the basic operations for higher-level functionality. **The fastai library** is the most popular library for adding this higher-level functionality on top of PyTorch. In this course, as we go deeper and deeper into the foundations of deep learning, we will also go deeper and deeper into the layers of fastai. This course covers version 2 of the fastai library, which is a from-scratch rewrite providing many unique features.\n",
    "\n",
    "### What you will learn\n",
    "\n",
    "**After finishing this course you will know:**\n",
    "\n",
    "- How to train models that achieve state-of-the-art results in:\n",
    "\n",
    "    - Computer vision, including image classification (e.g., classifying pet photos by breed), and image localization and detection (e.g., finding where the animals in an image are)\n",
    "    \n",
    "    \n",
    "    - Natural language processing (NLP), including document classification (e.g., movie review sentiment analysis) and language modeling\n",
    "\n",
    "\n",
    "    - Tabular data (e.g., sales prediction) with categorical data, continuous data, and mixed data, including time series\n",
    "\n",
    "\n",
    "    - Collaborative filtering (e.g., movie recommendation)\n",
    "    \n",
    "    \n",
    "- How to turn your models into web applications, and deploy them\n",
    "\n",
    "- Why and how deep learning models work, and how to use that knowledge to improve the accuracy, speed, and reliability of your models\n",
    "\n",
    "- The latest deep learning techniques that really matter in practice\n",
    "\n",
    "- How to implement stochastic gradient descent and a complete training loop from scratch\n",
    "\n",
    "- How to think about the ethical implications of your work, to help ensure that you're making the world a better place and that your work isn't misused for harm\n",
    "\n",
    "**Here are some of the techniques covered (don't worry if none of these words mean anything to you yet--you'll learn them all soon):**\n",
    "\n",
    "- Random forests and gradient boosting\n",
    "\n",
    "- Affine functions and nonlinearities\n",
    "\n",
    "- Parameters and activations\n",
    "\n",
    "- Random initialization and transfer learning\n",
    "\n",
    "- SGD, Momentum, Adam, and other optimizers\n",
    "\n",
    "- Convolutions\n",
    "\n",
    "- Batch normalization\n",
    "\n",
    "- Dropout\n",
    "\n",
    "- Data augmentation\n",
    "\n",
    "- Weight decay\n",
    "\n",
    "- Image classification and regression\n",
    "\n",
    "- Entity and word embeddings\n",
    "\n",
    "- Recurrent neural networks (RNNs)\n",
    "\n",
    "- Segmentation\n",
    "\n",
    "- And much more\n"
   ]
  },
  {
   "cell_type": "code",
   "execution_count": null,
   "metadata": {},
   "outputs": [],
   "source": []
  },
  {
   "cell_type": "code",
   "execution_count": null,
   "metadata": {},
   "outputs": [],
   "source": []
  },
  {
   "cell_type": "code",
   "execution_count": null,
   "metadata": {},
   "outputs": [],
   "source": []
  },
  {
   "cell_type": "code",
   "execution_count": null,
   "metadata": {},
   "outputs": [],
   "source": []
  },
  {
   "cell_type": "code",
   "execution_count": null,
   "metadata": {},
   "outputs": [],
   "source": []
  }
 ],
 "metadata": {
  "kernelspec": {
   "display_name": "Python 3",
   "language": "python",
   "name": "python3"
  },
  "language_info": {
   "codemirror_mode": {
    "name": "ipython",
    "version": 3
   },
   "file_extension": ".py",
   "mimetype": "text/x-python",
   "name": "python",
   "nbconvert_exporter": "python",
   "pygments_lexer": "ipython3",
   "version": "3.7.1"
  }
 },
 "nbformat": 4,
 "nbformat_minor": 2
}
